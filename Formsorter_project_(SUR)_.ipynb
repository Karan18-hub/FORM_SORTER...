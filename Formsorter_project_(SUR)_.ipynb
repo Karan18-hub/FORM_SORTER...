{
  "nbformat": 4,
  "nbformat_minor": 0,
  "metadata": {
    "colab": {
      "provenance": [],
      "include_colab_link": true
    },
    "kernelspec": {
      "name": "python3",
      "display_name": "Python 3"
    },
    "language_info": {
      "name": "python"
    }
  },
  "cells": [
    {
      "cell_type": "markdown",
      "metadata": {
        "id": "view-in-github",
        "colab_type": "text"
      },
      "source": [
        "<a href=\"https://colab.research.google.com/github/Karan18-hub/FORM_SORTER.../blob/main/Formsorter_project_(SUR)_.ipynb\" target=\"_parent\"><img src=\"https://colab.research.google.com/assets/colab-badge.svg\" alt=\"Open In Colab\"/></a>"
      ]
    },
    {
      "cell_type": "markdown",
      "source": [
        "This project will help to sort form entries and creat VCF files"
      ],
      "metadata": {
        "id": "Idv3Cqo0mJJ1"
      }
    },
    {
      "cell_type": "code",
      "execution_count": null,
      "metadata": {
        "colab": {
          "base_uri": "https://localhost:8080/"
        },
        "id": "3_GcTS-emAcJ",
        "outputId": "74207642-e3ee-4ffe-b60a-c786782b6922"
      },
      "outputs": [
        {
          "output_type": "stream",
          "name": "stdout",
          "text": [
            "Mounted at /content/drive\n"
          ]
        }
      ],
      "source": [
        "from google.colab import drive\n",
        "drive.mount('/content/drive')"
      ]
    },
    {
      "cell_type": "markdown",
      "source": [
        "Assume you have excell file that contains data of intrests of people, First of all use this snippet to sort and saparate a file of them who are into MUSIC"
      ],
      "metadata": {
        "id": "VnO3W4EUmXig"
      }
    },
    {
      "cell_type": "code",
      "source": [
        "import pandas as pd\n",
        "\n",
        "# Read the XLSX file into a pandas DataFrame\n",
        "df = pd.read_excel('/content/music_interest_data.xlsx') #Add ur own file in adress refer to fake_sample file for accurate format\n",
        "\n",
        "# Define a function to check if 'MUSIC' is present in any of the entries in 'Department of Interest' column\n",
        "def has_music_interest(interests):\n",
        "    interests = interests.split(',')\n",
        "    return any('MUSIC' in interest for interest in interests)\n",
        "\n",
        "# Filter the DataFrame to include only rows where 'Department of Interest' contains 'MUSIC' anywhere\n",
        "filtered_df = df[df['Department of Interest'].apply(has_music_interest)]\n",
        "\n",
        "# Save the filtered DataFrame to a new XLSX file\n",
        "filtered_df.to_excel('music_interest_data.xlsx', index=False)"
      ],
      "metadata": {
        "id": "HAJmDEz_mjhj"
      },
      "execution_count": null,
      "outputs": []
    },
    {
      "cell_type": "markdown",
      "source": [
        "Now you have file that has data of music intrested people now u further need to saparate files of all catagories to specific for eg here we need a saparate file of composer and producers in file named techno.xlsx"
      ],
      "metadata": {
        "id": "BIZtA7-Smwpc"
      }
    },
    {
      "cell_type": "code",
      "source": [
        "\n",
        "\n",
        "# Read the Excel file containing people interested in music\n",
        "df = pd.read_excel('/content/music_interest_data.xlsx')\n",
        "\n",
        "# Define a list of instrument categories to filter\n",
        "catagory_of_intrest = [ 'COMPOSER','MUSIC PRODUCTION']\n",
        "\n",
        "# Define a function to check if any of the specified instrument categories is present in the 'Category (if Music)' column\n",
        "def has_category(category):\n",
        "    if isinstance(category, str):\n",
        "        categories = category.split(',')\n",
        "        return any(cat.strip() in catagory_of_intrest for cat in categories)\n",
        "    return False\n",
        "\n",
        "# Filter the DataFrame to include only rows where 'Category (if Music)' contains any of the specified instrument categories\n",
        "instrument_df = df[df['Category (if Music)'].apply(has_category)]\n",
        "\n",
        "# Save the filtered data to a new Excel file named \"INSTRUMENTS_MUDRA\"\n",
        "instrument_df.to_excel('techno.xlsx', index=False) #inplace of \"techno\" use the name of file u want to save\n",
        "\n",
        "print('Filtered data saved to texchno.xlsx')"
      ],
      "metadata": {
        "colab": {
          "base_uri": "https://localhost:8080/"
        },
        "id": "MEpZI8zVnK0X",
        "outputId": "6e986543-bd7b-4441-ab53-9b786d39c990"
      },
      "execution_count": null,
      "outputs": [
        {
          "output_type": "stream",
          "name": "stdout",
          "text": [
            "Filtered data saved to texchno.xlsx\n"
          ]
        }
      ]
    },
    {
      "cell_type": "markdown",
      "source": [
        "Now creat VCF file of\n",
        "catagory of your intrest"
      ],
      "metadata": {
        "id": "5uXuhiyEnoFz"
      }
    },
    {
      "cell_type": "code",
      "source": [
        "# Read the  file of intrest data\n",
        "df = pd.read_excel('/content/techno.xlsx')\n",
        "\n",
        "# Initialize an empty string to store the VCF content\n",
        "all_vcf_content = \"\"\n",
        "\n",
        "# Iterate through the contacts and append their VCF content to the all_vcf_content string\n",
        "for index, row in df.iterrows():\n",
        "    # Format the name with the \"TEC-\" prefix u can use any prefix by changing \"Tec\"\n",
        "    full_name = f'Tec-{row[\"Name\"]}'\n",
        "\n",
        "    # Format the phone number for VCF\n",
        "    phone_number = row[\"Phone no. (WhatsApp)\"]\n",
        "\n",
        "    # Create VCF content for the current contact\n",
        "    vcf_content = f'BEGIN:VCARD\\nVERSION:3.0\\nFN:{full_name}\\nTEL:{phone_number}\\nEND:VCARD\\n'\n",
        "\n",
        "    # Append the VCF content to the all_vcf_content string\n",
        "    all_vcf_content += vcf_content\n",
        "\n",
        "# Save the combined VCF content to a single VCF file\n",
        "with open('techno.vcf', 'w') as vcf_file:  #You can change name of file by changing \"techno\"\n",
        "    vcf_file.write(all_vcf_content)\n",
        "\n",
        "print('Single VCF file created successfully.')"
      ],
      "metadata": {
        "colab": {
          "base_uri": "https://localhost:8080/"
        },
        "id": "FPepnmQnoNtb",
        "outputId": "1c444e3f-ffca-4dfc-8d1b-f4cef1c783b5"
      },
      "execution_count": null,
      "outputs": [
        {
          "output_type": "stream",
          "name": "stdout",
          "text": [
            "Single VCF file created successfully.\n"
          ]
        }
      ]
    }
  ]
}